{
  "nbformat": 4,
  "nbformat_minor": 0,
  "metadata": {
    "colab": {
      "name": "Tutorial30_Enumerate_Function.ipynb",
      "provenance": [],
      "authorship_tag": "ABX9TyNXj/TchRO6Gz+hJkeULtOo",
      "include_colab_link": true
    },
    "kernelspec": {
      "name": "python3",
      "display_name": "Python 3"
    }
  },
  "cells": [
    {
      "cell_type": "markdown",
      "metadata": {
        "id": "view-in-github",
        "colab_type": "text"
      },
      "source": [
        "<a href=\"https://colab.research.google.com/github/Shambhavi-Gupta/Tutorial30_Enumerate_Function/blob/main/Tutorial30_Enumerate_Function.ipynb\" target=\"_parent\"><img src=\"https://colab.research.google.com/assets/colab-badge.svg\" alt=\"Open In Colab\"/></a>"
      ]
    },
    {
      "cell_type": "code",
      "metadata": {
        "id": "RHj3PtkaZ9X-"
      },
      "source": [
        "a1 = [\"books\",\"copies\",\"pen\",\"pencil\",\"eraser\"]\r\n",
        "\r\n",
        "# b=1\r\n",
        "# for item in a1:\r\n",
        "#    if b%2 != 0:\r\n",
        "#       print(f\"Give me {item}\")\r\n",
        "#    b += 1\r\n",
        "\r\n",
        "for index, item in enumerate(a1):\r\n",
        "    if index%2 == 0:\r\n",
        "        print(f\"Give me {item}\")\r\n"
      ],
      "execution_count": null,
      "outputs": []
    }
  ]
}